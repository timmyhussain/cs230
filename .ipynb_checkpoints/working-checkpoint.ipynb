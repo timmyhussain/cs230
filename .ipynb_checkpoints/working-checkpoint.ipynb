{
 "cells": [
  {
   "cell_type": "code",
   "execution_count": 242,
   "metadata": {},
   "outputs": [],
   "source": [
    "import numpy as np\n",
    "import tensorflow as tf\n",
    "import traci\n",
    "import timeit\n",
    "from generator import TrafficGenerator\n",
    "from enum import Enum\n",
    "import matplotlib.pyplot as plt\n",
    "# import seaborn as sns"
   ]
  },
  {
   "cell_type": "markdown",
   "metadata": {},
   "source": [
    "No Model yet <br>\n",
    "Baseline: Simple periodic traffic light system"
   ]
  },
  {
   "cell_type": "code",
   "execution_count": 197,
   "metadata": {},
   "outputs": [
    {
     "data": {
      "text/plain": [
       "'2.3.0'"
      ]
     },
     "execution_count": 197,
     "metadata": {},
     "output_type": "execute_result"
    }
   ],
   "source": [
    "tf.__version__"
   ]
  },
  {
   "cell_type": "code",
   "execution_count": null,
   "metadata": {},
   "outputs": [],
   "source": [
    "max_steps = None\n",
    "num_cars = None\n",
    "TrafficGen = TrafficGenerator(max_steps, num_cars)"
   ]
  },
  {
   "cell_type": "code",
   "execution_count": 198,
   "metadata": {},
   "outputs": [],
   "source": [
    "# self._Model = Model\n",
    "# self._Memory = Memory\n",
    "\n",
    "class LightPhase(Enum):\n",
    "    PHASE_NS_GREEN = 0\n",
    "    PHASE_NSL_GREEN = 1\n",
    "    PHASE_EW_GREEN = 2\n",
    "    PHASE_EWL_GREEN = 3\n",
    "    \n",
    "class Simulation:\n",
    "    def __init__(self, TrafficGen, sumo_cmd, max_steps, green_duration, yellow_duration):\n",
    "        self._TrafficGen = TrafficGen\n",
    "        # self._gamma = gamma\n",
    "        self._step = 0\n",
    "        self._sumo_cmd = sumo_cmd\n",
    "        self._max_steps = max_steps\n",
    "        self._green_duration = green_duration\n",
    "        self._yellow_duration = yellow_duration\n",
    "        # self._num_states = num_states\n",
    "        # self._num_actions = num_actions\n",
    "        self._reward_store = []\n",
    "        self._cumulative_wait_store = []\n",
    "        self._avg_queue_length_store = []\n",
    "        self._training_epochs = training_epochs\n",
    "    \n",
    "    def run(self, ):\n",
    "        start_time = timeit.default_timer()\n",
    "        self._TrafficGen.generate_routefile(seed=0)\n",
    "        traci.start(self._sumo_cmd)\n",
    "        print(\"Simulating...\") #:>\n",
    "        \n",
    "        \n",
    "        self._sum_waiting_time = 0\n",
    "        old_state = -1\n",
    "        old_action = -1\n",
    "        \n",
    "        \n",
    "        while self._step < self._max_steps:\n",
    "            current_state = self._get_state()\n",
    "            current_total_wait = self._collect_waiting_times()\n",
    "            \n",
    "            action = self._choose_action(state, baseline=True)\n",
    "            \n",
    "            #we only trigger a yellow light if we aren't doing the same action again\n",
    "            if self._step != 0 and old_action != action:\n",
    "                self._set_yellow_phase(old_action)\n",
    "                self._simulate(self._yellow_duration)  \n",
    "            \n",
    "            self._set_green_phase(action)\n",
    "            self.simulate(self._green_duration)\n",
    "            \n",
    "            old_state = current_state\n",
    "            old_action = action\n",
    "            old_total_wait = current_total_wait\n",
    "        \n",
    "        \n",
    "        traci.close()\n",
    "        simulation_time = round(timeit.default_timer() - start_time, 2)\n",
    "        return simulation_time\n",
    "            \n",
    "            \n",
    "    def _choose_action(self, state, baseline=True):\n",
    "        #simple periodic action sequence\n",
    "        if baseline:\n",
    "            return (self.action + 1) % 4\n",
    "    \n",
    "    def _set_yellow_phase(self, old_action):\n",
    "        yellow_phase_code = old_action * 2 +1\n",
    "        traci.trafficlight.setPhase(\"TL\", yellow_phase_code)\n",
    "        \n",
    "    def _set_green_phase(self, action):\n",
    "        traci.trafficlight.setPhase(\"TL\", LightPhase(action).name)\n",
    "        \n",
    "    def _simulate(self, steps_todo):\n",
    "        steps_todo = min(steps_todo, self._max_steps - self._step)\n",
    "        \n",
    "        while steps_todo > 0:\n",
    "            traci.simulationStep()\n",
    "            self._step += 1\n",
    "            steps_todo -= 1\n",
    "#             queue_length = self._get_queue_length()\n",
    "#             self._sum_queue_length += queue_length\n",
    "#             self._sum_waiting_times += queue_length\n",
    "            \n",
    "            \n",
    "#     def _get_queue_length(self):\n",
    "#         halt_N = traci.edge.getLastStepHaltingNumber(\"N2TL\")\n",
    "#         halt_S = traci.edge.getLastStepHaltingNumber(\"S2TL\")\n",
    "#         halt_E = traci.edge.getLastStepHaltingNumber(\"E2TL\")\n",
    "#         halt_W = traci.edge.getLastStepHaltingNumber(\"W2TL\")\n",
    "#         queue_length = halt_N + halt_S + halt_E + halt_W\n",
    "#         return queue_length\n",
    "\n",
    "    def _collect_watiing_times(self):\n",
    "        incoming_roads = \"E2TL N2TL W2TL S2TL\".split()\n",
    "        car_list = traci.vehicle.getIDList()\n",
    "        for car_id in car_list:\n",
    "            if traci.vehicle.getRoadID(car_id) in incoming_roads:\n",
    "                self._waiting_times[car_id] = traci.vehicle.getAccumulatedWaitingTime(car_id)\n",
    "            elif car_id in self._waiting_times:\n",
    "                del self._waiting_times[car_id]\n",
    "        return sum(self._waiting_times.values())\n",
    "    \n",
    "    def _get_state(self):\n",
    "        \"\"\"\n",
    "        Retrieve the state of the intersection from sumo, in the form of cell occupancy\n",
    "        \"\"\"\n",
    "        state = np.zeros(self._num_states)\n",
    "        car_list = traci.vehicle.getIDList()\n",
    "\n",
    "        for car_id in car_list:\n",
    "            lane_pos = traci.vehicle.getLanePosition(car_id)\n",
    "            lane_id = traci.vehicle.getLaneID(car_id)\n",
    "            lane_pos = 750 - lane_pos  # inversion of lane pos, so if the car is close to the traffic light -> lane_pos = 0 --- 750 = max len of a road\n",
    "\n",
    "            # distance in meters from the traffic light -> mapping into cells\n",
    "            if lane_pos < 7:\n",
    "                lane_cell = 0\n",
    "            elif lane_pos < 14:\n",
    "                lane_cell = 1\n",
    "            elif lane_pos < 21:\n",
    "                lane_cell = 2\n",
    "            elif lane_pos < 28:\n",
    "                lane_cell = 3\n",
    "            elif lane_pos < 40:\n",
    "                lane_cell = 4\n",
    "            elif lane_pos < 60:\n",
    "                lane_cell = 5\n",
    "            elif lane_pos < 100:\n",
    "                lane_cell = 6\n",
    "            elif lane_pos < 160:\n",
    "                lane_cell = 7\n",
    "            elif lane_pos < 400:\n",
    "                lane_cell = 8\n",
    "            elif lane_pos <= 750:\n",
    "                lane_cell = 9\n",
    "\n",
    "            # finding the lane where the car is located \n",
    "            # x2TL_3 are the \"turn left only\" lanes\n",
    "            if lane_id == \"W2TL_0\" or lane_id == \"W2TL_1\" or lane_id == \"W2TL_2\":\n",
    "                lane_group = 0\n",
    "            elif lane_id == \"W2TL_3\":\n",
    "                lane_group = 1\n",
    "            elif lane_id == \"N2TL_0\" or lane_id == \"N2TL_1\" or lane_id == \"N2TL_2\":\n",
    "                lane_group = 2\n",
    "            elif lane_id == \"N2TL_3\":\n",
    "                lane_group = 3\n",
    "            elif lane_id == \"E2TL_0\" or lane_id == \"E2TL_1\" or lane_id == \"E2TL_2\":\n",
    "                lane_group = 4\n",
    "            elif lane_id == \"E2TL_3\":\n",
    "                lane_group = 5\n",
    "            elif lane_id == \"S2TL_0\" or lane_id == \"S2TL_1\" or lane_id == \"S2TL_2\":\n",
    "                lane_group = 6\n",
    "            elif lane_id == \"S2TL_3\":\n",
    "                lane_group = 7\n",
    "            else:\n",
    "                lane_group = -1\n",
    "\n",
    "            if lane_group >= 1 and lane_group <= 7:\n",
    "                car_position = int(str(lane_group) + str(lane_cell))  # composition of the two postion ID to create a number in interval 0-79\n",
    "                valid_car = True\n",
    "            elif lane_group == 0:\n",
    "                car_position = lane_cell\n",
    "                valid_car = True\n",
    "            else:\n",
    "                valid_car = False  # flag for not detecting cars crossing the intersection or driving away from it\n",
    "\n",
    "            if valid_car:\n",
    "                state[car_position] = 1  # write the position of the car car_id in the state array in the form of \"cell occupied\"\n",
    "\n",
    "        return state\n",
    "            "
   ]
  },
  {
   "cell_type": "code",
   "execution_count": 37,
   "metadata": {},
   "outputs": [],
   "source": [
    "incoming_roads = \"E2TL N2TL W2TL S2TL\".split()\n",
    "d = dict(zip(incoming_roads, [1, 2, 3, 4]))"
   ]
  },
  {
   "cell_type": "code",
   "execution_count": 40,
   "metadata": {},
   "outputs": [
    {
     "data": {
      "text/plain": [
       "10"
      ]
     },
     "execution_count": 40,
     "metadata": {},
     "output_type": "execute_result"
    }
   ],
   "source": [
    "sum(d.values())"
   ]
  },
  {
   "cell_type": "code",
   "execution_count": 30,
   "metadata": {},
   "outputs": [],
   "source": [
    "class testy:\n",
    "    def __init__(self):\n",
    "        print(\"initialized\")\n",
    "    \n",
    "    def print_lp(self):\n",
    "        print(LightPhase(2).name)"
   ]
  },
  {
   "cell_type": "code",
   "execution_count": 45,
   "metadata": {},
   "outputs": [],
   "source": [
    "class LightPhase(Enum):\n",
    "    PHASE_NS_GREEN = 0\n",
    "    PHASE_NSL_GREEN = 2\n",
    "    PHASE_EW_GREEN = 4\n",
    "    PHASE_EWL_GREEN = 6"
   ]
  },
  {
   "cell_type": "code",
   "execution_count": 19,
   "metadata": {},
   "outputs": [],
   "source": [
    "from tensorflow import keras\n",
    "from tensorflow.keras.layers import Dense, Input\n",
    "from tensorflow.keras.optimizers import Adam\n",
    "from tensorflow.keras.losses import MeanSquaredError"
   ]
  },
  {
   "cell_type": "code",
   "execution_count": 199,
   "metadata": {},
   "outputs": [],
   "source": [
    "class Model:\n",
    "    def __init__(self, num_layers, width, input_dim, output_dim, learning_rate):\n",
    "        self.num_layers = num_layers\n",
    "        self.output_dim = output_dim\n",
    "        self.input_dim = input_dim\n",
    "        self.learning_rate = learning_rate\n",
    "        self.model_a = self._build_model(num_layers, width)\n",
    "        self.model_b = self._build_model(num_layers, width)\n",
    "    \n",
    "    def _build_model(self, num_layers, width):\n",
    "        inputs = Input((self.input_dim,))\n",
    "        \n",
    "        X = Dense(width, activation=\"relu\")(inputs)\n",
    "        for i in range(num_layers-1):\n",
    "            X = Dense(width, activation='relu')(X)\n",
    "        outputs = Dense(self.output_dim, activation='linear')(X)\n",
    "        \n",
    "        opt = Adam(lr=self.learning_rate)\n",
    "        \n",
    "        model = keras.Model(inputs=inputs, outputs=outputs)\n",
    "        model.compile(loss = MeanSquaredError(), optimizer=opt)\n",
    "        return model\n",
    "    \n",
    "    def _predict(self, model_a, state):\n",
    "        if model_a:\n",
    "            return self.model_a.predict(state)\n",
    "        else:\n",
    "            return self.model_b.predict(state)\n",
    "    \n",
    "    def save_model(self, path):\n",
    "        self.model_a.save(os.path.join(path, 'trained_model_a.h5'))\n",
    "        self.model_b.save(os.path.join(path, 'trained_model_b.h5'))"
   ]
  },
  {
   "cell_type": "code",
   "execution_count": 208,
   "metadata": {},
   "outputs": [],
   "source": [
    "from tensorflow.keras.models import load_model\n",
    "import os"
   ]
  },
  {
   "cell_type": "code",
   "execution_count": 209,
   "metadata": {},
   "outputs": [],
   "source": [
    "class TestModel(Model):\n",
    "    def __init__(self, load_path):\n",
    "        self.model_a, self.model_b = self._load_models(load_path)\n",
    "        \n",
    "    def _load_models(self, path):\n",
    "        return load_model(os.path.join(path, 'trained_model_a.h5')), \\\n",
    "                   load_model(os.path.join(path, 'trained_model_a.h5'))"
   ]
  },
  {
   "cell_type": "code",
   "execution_count": 213,
   "metadata": {},
   "outputs": [
    {
     "data": {
      "text/plain": [
       "array([[127.38421 , -43.02566 , -75.406715, -86.43907 ]], dtype=float32)"
      ]
     },
     "execution_count": 213,
     "metadata": {},
     "output_type": "execute_result"
    }
   ],
   "source": [
    "model = TestModel(\"models\")\n",
    "model._predict(True, np.random.randn(1, 80))"
   ]
  },
  {
   "cell_type": "code",
   "execution_count": null,
   "metadata": {},
   "outputs": [],
   "source": [
    "model."
   ]
  },
  {
   "cell_type": "code",
   "execution_count": 58,
   "metadata": {},
   "outputs": [],
   "source": [
    "input_dim = 20\n",
    "output_dim = 4\n",
    "num_layers = 4\n",
    "width = 40\n",
    "learning_rate = 0.01\n",
    "\n",
    "inputs = Input((input_dim,))\n",
    "\n",
    "X = Dense(width, activation=\"relu\")(inputs)\n",
    "for i in range(num_layers-1):\n",
    "    X = Dense(width, activation='relu')(X)\n",
    "outputs = Dense(output_dim, activation='linear')(X)\n",
    "\n",
    "opt = Adam(lr=learning_rate)\n",
    "\n",
    "m = keras.Model(inputs=inputs, outputs=outputs)\n",
    "m.compile(loss = MeanSquaredError(), optimizer=opt)\n"
   ]
  },
  {
   "cell_type": "code",
   "execution_count": 78,
   "metadata": {},
   "outputs": [],
   "source": [
    "inputs = np.random.randn(20,)"
   ]
  },
  {
   "cell_type": "code",
   "execution_count": 79,
   "metadata": {},
   "outputs": [
    {
     "data": {
      "text/plain": [
       "(20,)"
      ]
     },
     "execution_count": 79,
     "metadata": {},
     "output_type": "execute_result"
    }
   ],
   "source": [
    "inputs.shape"
   ]
  },
  {
   "cell_type": "code",
   "execution_count": 80,
   "metadata": {},
   "outputs": [],
   "source": [
    "n = inputs.shape\n",
    "inputs = inputs.reshape((1, len(inputs)))\n",
    "# inputs.shape\n"
   ]
  },
  {
   "cell_type": "code",
   "execution_count": 114,
   "metadata": {},
   "outputs": [
    {
     "data": {
      "text/plain": [
       "(1, 4)"
      ]
     },
     "execution_count": 114,
     "metadata": {},
     "output_type": "execute_result"
    }
   ],
   "source": [
    "\n",
    "m.predict(inputs).shape"
   ]
  },
  {
   "cell_type": "code",
   "execution_count": 119,
   "metadata": {},
   "outputs": [],
   "source": [
    "from random import sample"
   ]
  },
  {
   "cell_type": "code",
   "execution_count": 142,
   "metadata": {},
   "outputs": [],
   "source": [
    "buffer = [(np.random.randn(1, 20), 2, 3), (np.random.randn(1, 20), 3, 4)]\n",
    "buffer = np.random.randn(5, 20)\n",
    "# buffer = [1]"
   ]
  },
  {
   "cell_type": "code",
   "execution_count": 136,
   "metadata": {},
   "outputs": [
    {
     "data": {
      "text/plain": [
       "[array([[ 0.04249936, -1.43150159,  0.69195723,  1.24015439, -0.1121719 ,\n",
       "          1.35408057, -0.6813249 , -0.74183885, -0.75453361, -0.1576713 ,\n",
       "         -1.43466983,  0.94678468,  0.18796667,  1.66567042,  1.65473167,\n",
       "         -0.83127557,  0.54455564, -2.69732184,  0.98155567, -0.41933276]]),\n",
       " 2]"
      ]
     },
     "execution_count": 136,
     "metadata": {},
     "output_type": "execute_result"
    }
   ],
   "source": [
    "[[i[0], i[1]] for i in sample(buffer, 2)][0]"
   ]
  },
  {
   "cell_type": "code",
   "execution_count": 111,
   "metadata": {},
   "outputs": [
    {
     "data": {
      "text/plain": [
       "array([], dtype=float64)"
      ]
     },
     "execution_count": 111,
     "metadata": {},
     "output_type": "execute_result"
    }
   ],
   "source": [
    "buffer = []\n",
    "np.random.choice(buffer, len(buffer), replace=False)"
   ]
  },
  {
   "cell_type": "code",
   "execution_count": 167,
   "metadata": {},
   "outputs": [],
   "source": [
    "q_s = m.predict(buffer)"
   ]
  },
  {
   "cell_type": "code",
   "execution_count": 190,
   "metadata": {},
   "outputs": [
    {
     "data": {
      "text/plain": [
       "array([[1, 1, 1, 0, 1]], dtype=int64)"
      ]
     },
     "execution_count": 190,
     "metadata": {},
     "output_type": "execute_result"
    }
   ],
   "source": [
    "argmaxes = np.argmax(q_s, axis=1).reshape(1, -1)\n",
    "argmaxes"
   ]
  },
  {
   "cell_type": "code",
   "execution_count": 168,
   "metadata": {},
   "outputs": [
    {
     "data": {
      "text/plain": [
       "(5, 4)"
      ]
     },
     "execution_count": 168,
     "metadata": {},
     "output_type": "execute_result"
    }
   ],
   "source": [
    "q_s.shape"
   ]
  },
  {
   "cell_type": "code",
   "execution_count": 179,
   "metadata": {},
   "outputs": [
    {
     "data": {
      "text/plain": [
       "array([[ 0.02377159,  0.3006861 , -0.02153228,  0.10008422],\n",
       "       [ 0.02377159,  0.3006861 , -0.02153228,  0.10008422],\n",
       "       [ 0.02377159,  0.3006861 , -0.02153228,  0.10008422],\n",
       "       [ 0.15308717,  0.8150898 , -0.29949862,  0.5507115 ],\n",
       "       [ 0.02377159,  0.3006861 , -0.02153228,  0.10008422]],\n",
       "      dtype=float32)"
      ]
     },
     "execution_count": 179,
     "metadata": {},
     "output_type": "execute_result"
    }
   ],
   "source": [
    "q_s[argmaxes]"
   ]
  },
  {
   "cell_type": "code",
   "execution_count": 195,
   "metadata": {},
   "outputs": [],
   "source": [
    "for i in range(0):\n",
    "    print(i)"
   ]
  },
  {
   "cell_type": "code",
   "execution_count": 194,
   "metadata": {},
   "outputs": [
    {
     "data": {
      "text/plain": [
       "array([[ 0.8150898 ,  0.8150898 ,  0.8150898 ,  0.15308717,  0.8150898 ],\n",
       "       [ 0.3006861 ,  0.3006861 ,  0.3006861 ,  0.02377159,  0.3006861 ],\n",
       "       [ 0.26197928,  0.26197928,  0.26197928, -0.05748827,  0.26197928],\n",
       "       [-0.06870117, -0.06870117, -0.06870117,  0.02547749, -0.06870117],\n",
       "       [ 0.26727164,  0.26727164,  0.26727164,  0.01313314,  0.26727164]],\n",
       "      dtype=float32)"
      ]
     },
     "execution_count": 194,
     "metadata": {},
     "output_type": "execute_result"
    }
   ],
   "source": [
    "np.take_along_axis(q_s, argmaxes, axis=1)"
   ]
  },
  {
   "cell_type": "code",
   "execution_count": 215,
   "metadata": {},
   "outputs": [
    {
     "data": {
      "text/plain": [
       "{0: 0, 1: 0, 2: 0, 3: 0}"
      ]
     },
     "execution_count": 215,
     "metadata": {},
     "output_type": "execute_result"
    }
   ],
   "source": [
    "dict(zip(list(range(4)), [0]*4))"
   ]
  },
  {
   "cell_type": "code",
   "execution_count": 217,
   "metadata": {},
   "outputs": [],
   "source": [
    "from tensorflow.keras import backend as K"
   ]
  },
  {
   "cell_type": "code",
   "execution_count": 220,
   "metadata": {},
   "outputs": [],
   "source": [
    "K.set_value(model.model_a.optimizer.learning_rate, 0.001)"
   ]
  },
  {
   "cell_type": "code",
   "execution_count": 244,
   "metadata": {},
   "outputs": [],
   "source": [
    "data_store = []"
   ]
  },
  {
   "cell_type": "code",
   "execution_count": 245,
   "metadata": {},
   "outputs": [],
   "source": [
    "f = open(\"models/only-batch-lltrain-new-reward-polynomial-alpha-4summedn/plot_reward_data.txt\", 'r')\n",
    "data = f.read()\n",
    "f.close()\n",
    "data = data.split('\\n')\n",
    "data.remove('')\n",
    "data = [float(i) for i in data]\n",
    "data_store.append(data)"
   ]
  },
  {
   "cell_type": "code",
   "execution_count": 247,
   "metadata": {},
   "outputs": [],
   "source": [
    "f = open(\"models/only-batch-longtrain-new-reward-adaptive-alpha/plot_reward_data.txt\", 'r')\n",
    "data = f.read()\n",
    "f.close()\n",
    "data = data.split('\\n')\n",
    "data.remove('')\n",
    "data = [float(i) for i in data]\n",
    "data_store.append(data)"
   ]
  },
  {
   "cell_type": "code",
   "execution_count": 248,
   "metadata": {},
   "outputs": [],
   "source": [
    "f = open(\"models/only-batch-longtrain-new-reward-polynomial-alpha/plot_reward_data.txt\", 'r')\n",
    "data = f.read()\n",
    "f.close()\n",
    "data = data.split('\\n')\n",
    "data.remove('')\n",
    "data = [float(i) for i in data]\n",
    "data_store.append(data)"
   ]
  },
  {
   "cell_type": "code",
   "execution_count": 256,
   "metadata": {},
   "outputs": [],
   "source": [
    "f = open(\"models/only-batch-single-dqn-alpha001/plot_reward_data.txt\", 'r')\n",
    "data = f.read()\n",
    "f.close()\n",
    "data = data.split('\\n')\n",
    "data.remove('')\n",
    "data = [float(i) for i in data]\n",
    "data_store.append(data)"
   ]
  },
  {
   "cell_type": "code",
   "execution_count": 307,
   "metadata": {},
   "outputs": [
    {
     "data": {
      "text/plain": [
       "<matplotlib.legend.Legend at 0x1fdd6f1b3d0>"
      ]
     },
     "execution_count": 307,
     "metadata": {},
     "output_type": "execute_result"
    },
    {
     "data": {
      "image/png": "[encoded data removed]",
      "text/plain": [
       "<Figure size 504x360 with 1 Axes>"
      ]
     },
     "metadata": {
      "needs_background": "light"
     },
     "output_type": "display_data"
    }
   ],
   "source": [
    "plt.figure(figsize=[7, 5])\n",
    "plt.plot(range(len(data_store[1])), data_store[1], label=\"linear adaptive alpha\", alpha=0.7)\n",
    "plt.plot(range(len(data_store[2])), data_store[2], label=\"polynomial adaptive alpha\", alpha=1)\n",
    "plt.plot(range(100), [-5000]*100, '--r', alpha=0.5)\n",
    "plt.plot(range(100), [-7000]*100, '--r', alpha=0.5)\n",
    "plt.text(0, -4500, \"-5000\")\n",
    "plt.text(0, -6500, \"-7000\")\n",
    "plt.xlabel(\"Training Episodes\")\n",
    "plt.ylabel(\"Accumulated reward\")\n",
    "plt.title(\"Evolution of agent's accrued reward with training time\")\n",
    "plt.legend()"
   ]
  },
  {
   "cell_type": "code",
   "execution_count": 305,
   "metadata": {},
   "outputs": [
    {
     "data": {
      "text/plain": [
       "<matplotlib.legend.Legend at 0x1fddb6366d0>"
      ]
     },
     "execution_count": 305,
     "metadata": {},
     "output_type": "execute_result"
    },
    {
     "data": {
      "image/png": "[encoded data removed]",
      "text/plain": [
       "<Figure size 504x360 with 1 Axes>"
      ]
     },
     "metadata": {
      "needs_background": "light"
     },
     "output_type": "display_data"
    }
   ],
   "source": [
    "plt.figure(figsize=[7, 5])\n",
    "plt.plot(range(len(data_store[3])), data_store[3], label=\"Single DQN\")\n",
    "plt.plot(range(len(data_store[2])), data_store[2], label=\"polynomial adaptive alpha\")\n",
    "plt.plot(range(100), [-5000]*100, '--r', alpha=0.5)\n",
    "plt.plot(range(100), [-3000]*100, '--r', alpha=0.5)\n",
    "plt.yticks(np.arange(-45000, 0, 5000))\n",
    "plt.text(0, -2500, \"-3000\")\n",
    "plt.text(0, -4500, \"-5000\")\n",
    "plt.xlabel(\"Training Episodes\")\n",
    "plt.ylabel(\"Accumulated reward\")\n",
    "plt.title(\"Evolution of agent's accrued reward with training time\")\n",
    "plt.legend()"
   ]
  },
  {
   "cell_type": "code",
   "execution_count": 302,
   "metadata": {},
   "outputs": [],
   "source": [
    "f = open(\"models/only-batch-longtrain-alpha01/plot_reward_data.txt\", 'r')\n",
    "data = f.read()\n",
    "f.close()\n",
    "data = data.split('\\n')\n",
    "data.remove('')\n",
    "data = [float(i) for i in data]\n",
    "data_store.append(data)"
   ]
  },
  {
   "cell_type": "code",
   "execution_count": 306,
   "metadata": {},
   "outputs": [
    {
     "data": {
      "text/plain": [
       "<matplotlib.legend.Legend at 0x1fddb6a2be0>"
      ]
     },
     "execution_count": 306,
     "metadata": {},
     "output_type": "execute_result"
    },
    {
     "data": {
      "image/png": "[encoded data removed]",
      "text/plain": [
       "<Figure size 504x360 with 1 Axes>"
      ]
     },
     "metadata": {
      "needs_background": "light"
     },
     "output_type": "display_data"
    }
   ],
   "source": [
    "plt.figure(figsize=[7, 5])\n",
    "plt.plot(range(len(data_store[4])), data_store[4], label=\"alpha = 0.01\")\n",
    "plt.xlabel(\"Training Episodes\")\n",
    "plt.ylabel(\"Accumulated reward\")\n",
    "plt.title(\"Evolution of agent's accrued reward with training time\")\n",
    "plt.legend()"
   ]
  },
  {
   "cell_type": "code",
   "execution_count": null,
   "metadata": {},
   "outputs": [],
   "source": [
    "f = open(\"models/only-batch-longtrain-alpha01/plot_reward_data.txt\", 'r')\n",
    "data = f.read()\n",
    "f.close()\n",
    "data = data.split('\\n')\n",
    "data.remove('')\n",
    "data = [float(i) for i in data]\n",
    "data_store.append(data)"
   ]
  }
 ],
 "metadata": {
  "kernelspec": {
   "display_name": "Python 3",
   "language": "python",
   "name": "python3"
  },
  "language_info": {
   "codemirror_mode": {
    "name": "ipython",
    "version": 3
   },
   "file_extension": ".py",
   "mimetype": "text/x-python",
   "name": "python",
   "nbconvert_exporter": "python",
   "pygments_lexer": "ipython3",
   "version": "3.8.5"
  }
 },
 "nbformat": 4,
 "nbformat_minor": 2
}
